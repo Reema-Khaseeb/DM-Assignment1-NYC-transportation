{
 "cells": [
  {
   "cell_type": "code",
   "execution_count": 1,
   "metadata": {},
   "outputs": [],
   "source": [
    "import pandas as pd\n",
    "from src.utils import get_columns_values\n"
   ]
  },
  {
   "cell_type": "code",
   "execution_count": 2,
   "metadata": {},
   "outputs": [
    {
     "data": {
      "text/html": [
       "<div>\n",
       "<style scoped>\n",
       "    .dataframe tbody tr th:only-of-type {\n",
       "        vertical-align: middle;\n",
       "    }\n",
       "\n",
       "    .dataframe tbody tr th {\n",
       "        vertical-align: top;\n",
       "    }\n",
       "\n",
       "    .dataframe thead th {\n",
       "        text-align: right;\n",
       "    }\n",
       "</style>\n",
       "<table border=\"1\" class=\"dataframe\">\n",
       "  <thead>\n",
       "    <tr style=\"text-align: right;\">\n",
       "      <th></th>\n",
       "      <th>Data Dictionary - Column Information</th>\n",
       "      <th>Unnamed: 1</th>\n",
       "      <th>Unnamed: 2</th>\n",
       "    </tr>\n",
       "  </thead>\n",
       "  <tbody>\n",
       "    <tr>\n",
       "      <th>0</th>\n",
       "      <td>Column Name</td>\n",
       "      <td>Column Description</td>\n",
       "      <td>Additional Notes \\n(where applicable, include ...</td>\n",
       "    </tr>\n",
       "    <tr>\n",
       "      <th>1</th>\n",
       "      <td>hh_id</td>\n",
       "      <td>Household ID</td>\n",
       "      <td>NaN</td>\n",
       "    </tr>\n",
       "    <tr>\n",
       "      <th>2</th>\n",
       "      <td>weight</td>\n",
       "      <td>Household-person weight</td>\n",
       "      <td>Refer to the survey's User Guide for additiona...</td>\n",
       "    </tr>\n",
       "    <tr>\n",
       "      <th>3</th>\n",
       "      <td>cms_zone</td>\n",
       "      <td>Home CMS zone</td>\n",
       "      <td>For more information on CMS Survey Zones, clic...</td>\n",
       "    </tr>\n",
       "    <tr>\n",
       "      <th>4</th>\n",
       "      <td>survey_mode</td>\n",
       "      <td>The method in which the survey was taken</td>\n",
       "      <td>-9998: Missing, non-response\\n1: rMove (smartp...</td>\n",
       "    </tr>\n",
       "  </tbody>\n",
       "</table>\n",
       "</div>"
      ],
      "text/plain": [
       "  Data Dictionary - Column Information  \\\n",
       "0                          Column Name   \n",
       "1                                hh_id   \n",
       "2                               weight   \n",
       "3                             cms_zone   \n",
       "4                          survey_mode   \n",
       "\n",
       "                                 Unnamed: 1  \\\n",
       "0                        Column Description   \n",
       "1                              Household ID   \n",
       "2                   Household-person weight   \n",
       "3                             Home CMS zone   \n",
       "4  The method in which the survey was taken   \n",
       "\n",
       "                                          Unnamed: 2  \n",
       "0  Additional Notes \\n(where applicable, include ...  \n",
       "1                                                NaN  \n",
       "2  Refer to the survey's User Guide for additiona...  \n",
       "3  For more information on CMS Survey Zones, clic...  \n",
       "4  -9998: Missing, non-response\\n1: rMove (smartp...  "
      ]
     },
     "execution_count": 2,
     "metadata": {},
     "output_type": "execute_result"
    }
   ],
   "source": [
    "df =pd.read_excel('data/Open_Data_Dictionary_CMS__Person_Survey_2019.xlsx', sheet_name='Column Info')\n",
    "df.head()"
   ]
  },
  {
   "cell_type": "code",
   "execution_count": 3,
   "metadata": {},
   "outputs": [],
   "source": [
    "df.drop(columns=[\"Unnamed: 1\"],axis=1,inplace=True)"
   ]
  },
  {
   "cell_type": "code",
   "execution_count": 4,
   "metadata": {},
   "outputs": [
    {
     "data": {
      "text/html": [
       "<div>\n",
       "<style scoped>\n",
       "    .dataframe tbody tr th:only-of-type {\n",
       "        vertical-align: middle;\n",
       "    }\n",
       "\n",
       "    .dataframe tbody tr th {\n",
       "        vertical-align: top;\n",
       "    }\n",
       "\n",
       "    .dataframe thead th {\n",
       "        text-align: right;\n",
       "    }\n",
       "</style>\n",
       "<table border=\"1\" class=\"dataframe\">\n",
       "  <thead>\n",
       "    <tr style=\"text-align: right;\">\n",
       "      <th></th>\n",
       "      <th>Data Dictionary - Column Information</th>\n",
       "      <th>Unnamed: 2</th>\n",
       "    </tr>\n",
       "  </thead>\n",
       "  <tbody>\n",
       "    <tr>\n",
       "      <th>0</th>\n",
       "      <td>Column Name</td>\n",
       "      <td>Additional Notes \\n(where applicable, include ...</td>\n",
       "    </tr>\n",
       "    <tr>\n",
       "      <th>1</th>\n",
       "      <td>hh_id</td>\n",
       "      <td>NaN</td>\n",
       "    </tr>\n",
       "    <tr>\n",
       "      <th>2</th>\n",
       "      <td>weight</td>\n",
       "      <td>Refer to the survey's User Guide for additiona...</td>\n",
       "    </tr>\n",
       "    <tr>\n",
       "      <th>3</th>\n",
       "      <td>cms_zone</td>\n",
       "      <td>For more information on CMS Survey Zones, clic...</td>\n",
       "    </tr>\n",
       "    <tr>\n",
       "      <th>4</th>\n",
       "      <td>survey_mode</td>\n",
       "      <td>-9998: Missing, non-response\\n1: rMove (smartp...</td>\n",
       "    </tr>\n",
       "  </tbody>\n",
       "</table>\n",
       "</div>"
      ],
      "text/plain": [
       "  Data Dictionary - Column Information  \\\n",
       "0                          Column Name   \n",
       "1                                hh_id   \n",
       "2                               weight   \n",
       "3                             cms_zone   \n",
       "4                          survey_mode   \n",
       "\n",
       "                                          Unnamed: 2  \n",
       "0  Additional Notes \\n(where applicable, include ...  \n",
       "1                                                NaN  \n",
       "2  Refer to the survey's User Guide for additiona...  \n",
       "3  For more information on CMS Survey Zones, clic...  \n",
       "4  -9998: Missing, non-response\\n1: rMove (smartp...  "
      ]
     },
     "execution_count": 4,
     "metadata": {},
     "output_type": "execute_result"
    }
   ],
   "source": [
    "df.head()"
   ]
  },
  {
   "cell_type": "code",
   "execution_count": 5,
   "metadata": {},
   "outputs": [],
   "source": [
    "df.rename(columns={\"Data Dictionary - Column Information\":\"Name\",\"Unnamed: 2\":\"values\"},inplace=True)"
   ]
  },
  {
   "cell_type": "code",
   "execution_count": 6,
   "metadata": {},
   "outputs": [],
   "source": [
    "df.drop(0,inplace=True)"
   ]
  },
  {
   "cell_type": "code",
   "execution_count": 7,
   "metadata": {},
   "outputs": [],
   "source": [
    "df = df[df[\"values\"].notna()]"
   ]
  },
  {
   "cell_type": "code",
   "execution_count": 8,
   "metadata": {},
   "outputs": [
    {
     "data": {
      "text/plain": [
       "(140, 2)"
      ]
     },
     "execution_count": 8,
     "metadata": {},
     "output_type": "execute_result"
    }
   ],
   "source": [
    "df.shape"
   ]
  },
  {
   "cell_type": "code",
   "execution_count": 9,
   "metadata": {},
   "outputs": [
    {
     "data": {
      "text/html": [
       "<div>\n",
       "<style scoped>\n",
       "    .dataframe tbody tr th:only-of-type {\n",
       "        vertical-align: middle;\n",
       "    }\n",
       "\n",
       "    .dataframe tbody tr th {\n",
       "        vertical-align: top;\n",
       "    }\n",
       "\n",
       "    .dataframe thead th {\n",
       "        text-align: right;\n",
       "    }\n",
       "</style>\n",
       "<table border=\"1\" class=\"dataframe\">\n",
       "  <thead>\n",
       "    <tr style=\"text-align: right;\">\n",
       "      <th></th>\n",
       "      <th>Name</th>\n",
       "      <th>values</th>\n",
       "    </tr>\n",
       "  </thead>\n",
       "  <tbody>\n",
       "    <tr>\n",
       "      <th>2</th>\n",
       "      <td>weight</td>\n",
       "      <td>Refer to the survey's User Guide for additiona...</td>\n",
       "    </tr>\n",
       "    <tr>\n",
       "      <th>3</th>\n",
       "      <td>cms_zone</td>\n",
       "      <td>For more information on CMS Survey Zones, clic...</td>\n",
       "    </tr>\n",
       "    <tr>\n",
       "      <th>4</th>\n",
       "      <td>survey_mode</td>\n",
       "      <td>-9998: Missing, non-response\\n1: rMove (smartp...</td>\n",
       "    </tr>\n",
       "    <tr>\n",
       "      <th>7</th>\n",
       "      <td>is_participant</td>\n",
       "      <td>-9998: Missing, non-response\\n0: Not selected\\...</td>\n",
       "    </tr>\n",
       "    <tr>\n",
       "      <th>20</th>\n",
       "      <td>made_trips</td>\n",
       "      <td>-9998: Missing, non-response\\n0: Not selected\\...</td>\n",
       "    </tr>\n",
       "  </tbody>\n",
       "</table>\n",
       "</div>"
      ],
      "text/plain": [
       "              Name                                             values\n",
       "2           weight  Refer to the survey's User Guide for additiona...\n",
       "3         cms_zone  For more information on CMS Survey Zones, clic...\n",
       "4      survey_mode  -9998: Missing, non-response\\n1: rMove (smartp...\n",
       "7   is_participant  -9998: Missing, non-response\\n0: Not selected\\...\n",
       "20      made_trips  -9998: Missing, non-response\\n0: Not selected\\..."
      ]
     },
     "execution_count": 9,
     "metadata": {},
     "output_type": "execute_result"
    }
   ],
   "source": [
    "df.head()"
   ]
  },
  {
   "cell_type": "code",
   "execution_count": 10,
   "metadata": {},
   "outputs": [
    {
     "data": {
      "text/html": [
       "<div>\n",
       "<style scoped>\n",
       "    .dataframe tbody tr th:only-of-type {\n",
       "        vertical-align: middle;\n",
       "    }\n",
       "\n",
       "    .dataframe tbody tr th {\n",
       "        vertical-align: top;\n",
       "    }\n",
       "\n",
       "    .dataframe thead th {\n",
       "        text-align: right;\n",
       "    }\n",
       "</style>\n",
       "<table border=\"1\" class=\"dataframe\">\n",
       "  <thead>\n",
       "    <tr style=\"text-align: right;\">\n",
       "      <th></th>\n",
       "      <th>Name</th>\n",
       "      <th>values</th>\n",
       "    </tr>\n",
       "  </thead>\n",
       "  <tbody>\n",
       "    <tr>\n",
       "      <th>2</th>\n",
       "      <td>weight</td>\n",
       "      <td>Refer to the survey's User Guide for additiona...</td>\n",
       "    </tr>\n",
       "    <tr>\n",
       "      <th>3</th>\n",
       "      <td>cms_zone</td>\n",
       "      <td>For more information on CMS Survey Zones, clic...</td>\n",
       "    </tr>\n",
       "    <tr>\n",
       "      <th>4</th>\n",
       "      <td>survey_mode</td>\n",
       "      <td>-9998: Missing, non-response\\n1: rMove (smartp...</td>\n",
       "    </tr>\n",
       "    <tr>\n",
       "      <th>7</th>\n",
       "      <td>is_participant</td>\n",
       "      <td>-9998: Missing, non-response\\n0: Not selected\\...</td>\n",
       "    </tr>\n",
       "    <tr>\n",
       "      <th>20</th>\n",
       "      <td>made_trips</td>\n",
       "      <td>-9998: Missing, non-response\\n0: Not selected\\...</td>\n",
       "    </tr>\n",
       "    <tr>\n",
       "      <th>...</th>\n",
       "      <td>...</td>\n",
       "      <td>...</td>\n",
       "    </tr>\n",
       "    <tr>\n",
       "      <th>161</th>\n",
       "      <td>disability_walking</td>\n",
       "      <td>-9998: Missing, non-response\\n0: Not selected\\...</td>\n",
       "    </tr>\n",
       "    <tr>\n",
       "      <th>162</th>\n",
       "      <td>disability_mobility</td>\n",
       "      <td>-9998: Missing, non-response\\n0: Not selected\\...</td>\n",
       "    </tr>\n",
       "    <tr>\n",
       "      <th>163</th>\n",
       "      <td>disability_dressing</td>\n",
       "      <td>-9998: Missing, non-response\\n0: Not selected\\...</td>\n",
       "    </tr>\n",
       "    <tr>\n",
       "      <th>164</th>\n",
       "      <td>disability_concentrating</td>\n",
       "      <td>-9998: Missing, non-response\\n0: Not selected\\...</td>\n",
       "    </tr>\n",
       "    <tr>\n",
       "      <th>165</th>\n",
       "      <td>disability_none</td>\n",
       "      <td>-9998: Missing, non-response\\n0: Not selected\\...</td>\n",
       "    </tr>\n",
       "  </tbody>\n",
       "</table>\n",
       "<p>140 rows × 2 columns</p>\n",
       "</div>"
      ],
      "text/plain": [
       "                         Name  \\\n",
       "2                      weight   \n",
       "3                    cms_zone   \n",
       "4                 survey_mode   \n",
       "7              is_participant   \n",
       "20                 made_trips   \n",
       "..                        ...   \n",
       "161        disability_walking   \n",
       "162       disability_mobility   \n",
       "163       disability_dressing   \n",
       "164  disability_concentrating   \n",
       "165           disability_none   \n",
       "\n",
       "                                                values  \n",
       "2    Refer to the survey's User Guide for additiona...  \n",
       "3    For more information on CMS Survey Zones, clic...  \n",
       "4    -9998: Missing, non-response\\n1: rMove (smartp...  \n",
       "7    -9998: Missing, non-response\\n0: Not selected\\...  \n",
       "20   -9998: Missing, non-response\\n0: Not selected\\...  \n",
       "..                                                 ...  \n",
       "161  -9998: Missing, non-response\\n0: Not selected\\...  \n",
       "162  -9998: Missing, non-response\\n0: Not selected\\...  \n",
       "163  -9998: Missing, non-response\\n0: Not selected\\...  \n",
       "164  -9998: Missing, non-response\\n0: Not selected\\...  \n",
       "165  -9998: Missing, non-response\\n0: Not selected\\...  \n",
       "\n",
       "[140 rows x 2 columns]"
      ]
     },
     "execution_count": 10,
     "metadata": {},
     "output_type": "execute_result"
    }
   ],
   "source": [
    "df"
   ]
  },
  {
   "cell_type": "code",
   "execution_count": 12,
   "metadata": {},
   "outputs": [],
   "source": [
    "result = {}\n",
    "for _, row in df.iterrows():\n",
    "    name = row['Name']\n",
    "    value = get_columns_values(row['values'])\n",
    "    if value:\n",
    "        value[\"995\"] =\"skip logic\"\n",
    "        result[name] = value\n"
   ]
  },
  {
   "cell_type": "code",
   "execution_count": 16,
   "metadata": {},
   "outputs": [],
   "source": [
    "import json"
   ]
  },
  {
   "cell_type": "code",
   "execution_count": 17,
   "metadata": {},
   "outputs": [
    {
     "data": {
      "text/plain": [
       "dict_keys(['survey_mode', 'is_participant', 'made_trips', 'relationship', 'age', 'employment', 'worker', 'student', 'license', 'vehicle', 'congestion', 'drive_cbd_freq', 'planning_apps', 'job_type', 'industry', 'telework_freq', 'missing_work_location', 'work_mode', 'work_mode_own', 'work_park_location', 'work_park_pay', 'work_vehicle_pass_period', 'work_mode_auto', 'work_mode_bus', 'work_mode_rail', 'work_mode_ferry', 'work_mode_taxi', 'work_mode_bike', 'work_bike_park', 'work_mode_scooter', 'work_scooter_park', 'school_type', 'missing_school_location', 'kid_accompany', 'school_mode', 'school_mode_own', 'school_park_location', 'school_vehicle_pass_period', 'school_mode_auto', 'school_mode_bus', 'school_mode_rail', 'school_mode_ferry', 'school_access', 'school_egress', 'school_mode_taxi', 'school_mode_bike', 'school_bike_park', 'school_mode_scooter', 'school_scooter_park', 'bike_freq', 'bike_stolen', 'bike_purpose_errands', 'bike_purpose_transit', 'bike_purpose_recreation', 'bike_purpose_commute', 'bike_purpose_appointment', 'bike_purpose_other', 'no_bike_nyc_bike_lanes', 'no_bike_nyc_paving', 'no_bike_nyc_storage', 'no_bike_nyc_long_trips', 'no_bike_nyc_showers', 'no_bike_nyc_modes', 'no_bike_nyc_unable', 'no_bike_nyc_other', 'bike_share_citi_bike', 'bike_share_jump', 'bike_share_lime', 'bike_share_none', 'bike_share_user', 'citi_bike_freq', 'jump_freq', 'lime_freq', 'no_bike_share_unfamiliar', 'no_bike_share_expensive', 'no_bike_share_neighborhood', 'no_bike_share_stations', 'no_bike_share_personal_bike', 'no_bike_share_docks', 'no_bike_share_uncomfortable', 'no_bike_share_other', 'tnc_use_uber', 'tnc_use_lyft', 'tnc_use_via', 'tnc_use_juno', 'tnc_use_none', 'tnc_user', 'tnc_freq', 'tnc_purpose', 'tnc_mode', 'tnc_mode_auto', 'tnc_mode_taxi', 'tnc_mode_bus', 'tnc_mode_rail', 'tnc_mode_ferry', 'tnc_mode_bike', 'tnc_mode_scooter', 'car_share_zipcar', 'car_share_car2go', 'car_share_enterprise', 'car_share_other', 'car_share_none', 'car_share_user', 'packages', 'packages_distance', 'harassment', 'harassment_trip', 'harassment_time', 'harassment_route', 'harassment_transit', 'harassment_mode', 'harassment_neighborhood', 'harassment_private_car', 'harassment_alone', 'harassment_attention', 'harassment_defense', 'harassment_other', 'harassment_none', 'gender', 'education', 'english_proficiency', 'ethnicity', 'race_american_indian', 'race_asian', 'race_black', 'race_native_hawaiian', 'race_white', 'race_other', 'disability_hearing', 'disability_seeing', 'disability_walking', 'disability_mobility', 'disability_dressing', 'disability_concentrating', 'disability_none'])"
      ]
     },
     "execution_count": 17,
     "metadata": {},
     "output_type": "execute_result"
    }
   ],
   "source": [
    "result.keys()"
   ]
  },
  {
   "cell_type": "code",
   "execution_count": 18,
   "metadata": {},
   "outputs": [],
   "source": [
    "with open(\"data/columns_encoding.json\",\"w\") as file:\n",
    "    json.dump(result,file)"
   ]
  }
 ],
 "metadata": {
  "kernelspec": {
   "display_name": "Python 3",
   "language": "python",
   "name": "python3"
  },
  "language_info": {
   "codemirror_mode": {
    "name": "ipython",
    "version": 3
   },
   "file_extension": ".py",
   "mimetype": "text/x-python",
   "name": "python",
   "nbconvert_exporter": "python",
   "pygments_lexer": "ipython3",
   "version": "3.9.0"
  },
  "orig_nbformat": 4,
  "vscode": {
   "interpreter": {
    "hash": "27f5e20c8d8745f6e27ba54df7618a718b9dba0be89da096f3436998b1c01c09"
   }
  }
 },
 "nbformat": 4,
 "nbformat_minor": 2
}
