{
 "cells": [
  {
   "cell_type": "code",
   "execution_count": 1,
   "metadata": {},
   "outputs": [
    {
     "data": {
      "text/plain": [
       "'\\nimporting examples \\n├── project (package)\\n│   ├── src (package)\\n│   │   ├── __init__.py\\n│   │   └── utils.py\\n│   |── clustering.ipynb\\n    └── __init__.py\\n\\nimport src ---> src.utils.test(10)\\nfrom src import utils ---> utils.test(10)\\nfrom src.utils import test ---> test(10) \\n----------------------------------------\\nplease import each library in its own line \\ne.g.\\n\\n((THIS IS TRUE))\\nimport os\\nimport sys\\n\\n((THIS IS WRONG))\\nimport os,sys\\n\\n----------------------------------------\\nin the package case its ok to import all things in one liune\\ne.g. \\nfrom src import utils,constants   ((Thats OK !!))\\n----------------------------------------\\nimport proiority : (very important)\\n1) Standard library imprts  e.g. sys,os\\n2) Third party imports e.g. pandas , numpy\\n3) Local imports e.g. utils , constants and other things inside the project\\n'"
      ]
     },
     "execution_count": 1,
     "metadata": {},
     "output_type": "execute_result"
    }
   ],
   "source": [
    "\"\"\"\n",
    "importing examples \n",
    "├── project (package)\n",
    "│   ├── src (package)\n",
    "│   │   ├── __init__.py\n",
    "│   │   └── utils.py\n",
    "│   |── clustering.ipynb\n",
    "    └── __init__.py\n",
    "\n",
    "import src ---> src.utils.test(10)\n",
    "from src import utils ---> utils.test(10)\n",
    "from src.utils import test ---> test(10) \n",
    "----------------------------------------\n",
    "please import each library in its own line \n",
    "e.g.\n",
    "\n",
    "((THIS IS TRUE))\n",
    "import os\n",
    "import sys\n",
    "\n",
    "((THIS IS WRONG))\n",
    "import os,sys\n",
    "\n",
    "----------------------------------------\n",
    "in the package case its ok to import all things in one liune\n",
    "e.g. \n",
    "from src import utils,constants   ((Thats OK !!))\n",
    "----------------------------------------\n",
    "import proiority : (very important)\n",
    "1) Standard library imprts  e.g. sys,os\n",
    "2) Third party imports e.g. pandas , numpy\n",
    "3) Local imports e.g. utils , constants and other things inside the project\n",
    "\"\"\"\n"
   ]
  },
  {
   "cell_type": "code",
   "execution_count": 2,
   "metadata": {},
   "outputs": [],
   "source": [
    "# Third party Imports\n",
    "import pandas as pd\n",
    "import seaborn as sns\n",
    "import matplotlib.pyplot as plt\n",
    "\n",
    "# Local imports\n",
    "from src.utils import count_plot_percentage"
   ]
  },
  {
   "cell_type": "code",
   "execution_count": 3,
   "metadata": {},
   "outputs": [],
   "source": [
    "data = pd.read_csv(\"data/Citywide_Mobility_Survey_-_Person_Survey_2019.csv\")"
   ]
  },
  {
   "cell_type": "code",
   "execution_count": 4,
   "metadata": {},
   "outputs": [
    {
     "data": {
      "text/html": [
       "<div>\n",
       "<style scoped>\n",
       "    .dataframe tbody tr th:only-of-type {\n",
       "        vertical-align: middle;\n",
       "    }\n",
       "\n",
       "    .dataframe tbody tr th {\n",
       "        vertical-align: top;\n",
       "    }\n",
       "\n",
       "    .dataframe thead th {\n",
       "        text-align: right;\n",
       "    }\n",
       "</style>\n",
       "<table border=\"1\" class=\"dataframe\">\n",
       "  <thead>\n",
       "    <tr style=\"text-align: right;\">\n",
       "      <th></th>\n",
       "      <th>hh_id</th>\n",
       "      <th>weight</th>\n",
       "      <th>cms_zone</th>\n",
       "      <th>survey_mode</th>\n",
       "      <th>person_id</th>\n",
       "      <th>person_num</th>\n",
       "      <th>is_participant</th>\n",
       "      <th>num_days</th>\n",
       "      <th>num_days_complete</th>\n",
       "      <th>num_trips</th>\n",
       "      <th>...</th>\n",
       "      <th>race_native_hawaiian</th>\n",
       "      <th>race_white</th>\n",
       "      <th>race_other</th>\n",
       "      <th>disability_hearing</th>\n",
       "      <th>disability_seeing</th>\n",
       "      <th>disability_walking</th>\n",
       "      <th>disability_mobility</th>\n",
       "      <th>disability_dressing</th>\n",
       "      <th>disability_concentrating</th>\n",
       "      <th>disability_none</th>\n",
       "    </tr>\n",
       "  </thead>\n",
       "  <tbody>\n",
       "    <tr>\n",
       "      <th>0</th>\n",
       "      <td>191546322</td>\n",
       "      <td>0.00000</td>\n",
       "      <td>Inner Brooklyn</td>\n",
       "      <td>1</td>\n",
       "      <td>19154632203</td>\n",
       "      <td>3</td>\n",
       "      <td>0</td>\n",
       "      <td>NaN</td>\n",
       "      <td>NaN</td>\n",
       "      <td>NaN</td>\n",
       "      <td>...</td>\n",
       "      <td>995</td>\n",
       "      <td>995</td>\n",
       "      <td>995</td>\n",
       "      <td>995</td>\n",
       "      <td>995</td>\n",
       "      <td>995</td>\n",
       "      <td>995</td>\n",
       "      <td>995</td>\n",
       "      <td>995</td>\n",
       "      <td>995</td>\n",
       "    </tr>\n",
       "    <tr>\n",
       "      <th>1</th>\n",
       "      <td>191546322</td>\n",
       "      <td>0.00000</td>\n",
       "      <td>Inner Brooklyn</td>\n",
       "      <td>1</td>\n",
       "      <td>19154632202</td>\n",
       "      <td>2</td>\n",
       "      <td>0</td>\n",
       "      <td>NaN</td>\n",
       "      <td>NaN</td>\n",
       "      <td>NaN</td>\n",
       "      <td>...</td>\n",
       "      <td>995</td>\n",
       "      <td>995</td>\n",
       "      <td>995</td>\n",
       "      <td>995</td>\n",
       "      <td>995</td>\n",
       "      <td>995</td>\n",
       "      <td>995</td>\n",
       "      <td>995</td>\n",
       "      <td>995</td>\n",
       "      <td>995</td>\n",
       "    </tr>\n",
       "    <tr>\n",
       "      <th>2</th>\n",
       "      <td>191546322</td>\n",
       "      <td>212.12729</td>\n",
       "      <td>Inner Brooklyn</td>\n",
       "      <td>1</td>\n",
       "      <td>19154632201</td>\n",
       "      <td>1</td>\n",
       "      <td>1</td>\n",
       "      <td>7.0</td>\n",
       "      <td>7.0</td>\n",
       "      <td>23.0</td>\n",
       "      <td>...</td>\n",
       "      <td>1</td>\n",
       "      <td>0</td>\n",
       "      <td>0</td>\n",
       "      <td>0</td>\n",
       "      <td>0</td>\n",
       "      <td>0</td>\n",
       "      <td>0</td>\n",
       "      <td>0</td>\n",
       "      <td>0</td>\n",
       "      <td>1</td>\n",
       "    </tr>\n",
       "    <tr>\n",
       "      <th>3</th>\n",
       "      <td>19241657</td>\n",
       "      <td>0.00000</td>\n",
       "      <td>Middle Queens</td>\n",
       "      <td>1</td>\n",
       "      <td>1924165703</td>\n",
       "      <td>3</td>\n",
       "      <td>0</td>\n",
       "      <td>NaN</td>\n",
       "      <td>NaN</td>\n",
       "      <td>NaN</td>\n",
       "      <td>...</td>\n",
       "      <td>995</td>\n",
       "      <td>995</td>\n",
       "      <td>995</td>\n",
       "      <td>995</td>\n",
       "      <td>995</td>\n",
       "      <td>995</td>\n",
       "      <td>995</td>\n",
       "      <td>995</td>\n",
       "      <td>995</td>\n",
       "      <td>995</td>\n",
       "    </tr>\n",
       "    <tr>\n",
       "      <th>4</th>\n",
       "      <td>19241657</td>\n",
       "      <td>0.00000</td>\n",
       "      <td>Middle Queens</td>\n",
       "      <td>1</td>\n",
       "      <td>1924165702</td>\n",
       "      <td>2</td>\n",
       "      <td>0</td>\n",
       "      <td>NaN</td>\n",
       "      <td>NaN</td>\n",
       "      <td>NaN</td>\n",
       "      <td>...</td>\n",
       "      <td>995</td>\n",
       "      <td>995</td>\n",
       "      <td>995</td>\n",
       "      <td>995</td>\n",
       "      <td>995</td>\n",
       "      <td>995</td>\n",
       "      <td>995</td>\n",
       "      <td>995</td>\n",
       "      <td>995</td>\n",
       "      <td>995</td>\n",
       "    </tr>\n",
       "  </tbody>\n",
       "</table>\n",
       "<p>5 rows × 165 columns</p>\n",
       "</div>"
      ],
      "text/plain": [
       "       hh_id     weight        cms_zone  survey_mode    person_id  person_num  \\\n",
       "0  191546322    0.00000  Inner Brooklyn            1  19154632203           3   \n",
       "1  191546322    0.00000  Inner Brooklyn            1  19154632202           2   \n",
       "2  191546322  212.12729  Inner Brooklyn            1  19154632201           1   \n",
       "3   19241657    0.00000   Middle Queens            1   1924165703           3   \n",
       "4   19241657    0.00000   Middle Queens            1   1924165702           2   \n",
       "\n",
       "   is_participant  num_days  num_days_complete  num_trips  ...  \\\n",
       "0               0       NaN                NaN        NaN  ...   \n",
       "1               0       NaN                NaN        NaN  ...   \n",
       "2               1       7.0                7.0       23.0  ...   \n",
       "3               0       NaN                NaN        NaN  ...   \n",
       "4               0       NaN                NaN        NaN  ...   \n",
       "\n",
       "   race_native_hawaiian  race_white  race_other  disability_hearing  \\\n",
       "0                   995         995         995                 995   \n",
       "1                   995         995         995                 995   \n",
       "2                     1           0           0                   0   \n",
       "3                   995         995         995                 995   \n",
       "4                   995         995         995                 995   \n",
       "\n",
       "   disability_seeing  disability_walking  disability_mobility  \\\n",
       "0                995                 995                  995   \n",
       "1                995                 995                  995   \n",
       "2                  0                   0                    0   \n",
       "3                995                 995                  995   \n",
       "4                995                 995                  995   \n",
       "\n",
       "  disability_dressing disability_concentrating  disability_none  \n",
       "0                 995                      995              995  \n",
       "1                 995                      995              995  \n",
       "2                   0                        0                1  \n",
       "3                 995                      995              995  \n",
       "4                 995                      995              995  \n",
       "\n",
       "[5 rows x 165 columns]"
      ]
     },
     "execution_count": 4,
     "metadata": {},
     "output_type": "execute_result"
    }
   ],
   "source": [
    "data.head()"
   ]
  },
  {
   "attachments": {},
   "cell_type": "markdown",
   "metadata": {},
   "source": [
    "* Observe having nominal data(categoricals represented by numbers). s.t. is_participant, race, and disability columns\n",
    "* Observe having NULL values"
   ]
  },
  {
   "cell_type": "code",
   "execution_count": 5,
   "metadata": {},
   "outputs": [],
   "source": [
    "# 'harassment', 'cms_zone'\n",
    "data.drop(columns=['hh_id', 'weight', 'survey_mode', 'person_id', 'person_num',\n",
    "       'is_participant', 'num_days', 'num_days_complete', 'num_trips',\n",
    "       'num_walk_trips', 'num_transit_trips', 'num_bike_trips',\n",
    "       'num_taxi_trips', 'num_tnc_trips', 'num_complete_weekend_days',\n",
    "       'num_complete_weekdays', 'first_travel_date', 'last_travel_date',\n",
    "       'made_trips', 'smartphone_type', 'relationship', 'age','student','license','vehicle',\n",
    "       'school_type', 'school_cms_zone',\n",
    "       'missing_school_location', 'kid_accompany', 'school_mode',\n",
    "       'school_mode_own', 'school_park_location', 'school_vehicle_pass_period',\n",
    "       'school_park_amount_day', 'school_park_amount_month',\n",
    "       'school_park_amount_week', 'school_park_amount_year',\n",
    "       'school_mode_auto', 'school_mode_bus', 'school_mode_rail',\n",
    "       'school_mode_ferry', 'school_access', 'school_egress',\n",
    "       'school_mode_taxi', 'school_mode_bike', 'school_bike_park',\n",
    "       'school_mode_scooter', 'school_scooter_park', 'packages',\n",
    "       'packages_distance', 'harassment_trip', 'harassment_time',\n",
    "       'harassment_route', 'harassment_transit', 'harassment_mode',\n",
    "       'harassment_neighborhood', 'harassment_private_car', 'harassment_alone',\n",
    "       'harassment_attention', 'harassment_defense', 'harassment_other',\n",
    "       'harassment_none', 'gender', 'education', 'english_proficiency',\n",
    "       'ethnicity', 'race_american_indian', 'race_asian', 'race_black',\n",
    "       'race_native_hawaiian', 'race_white', 'race_other',\n",
    "       'disability_hearing', 'disability_seeing', 'disability_walking',\n",
    "       'disability_mobility', 'disability_dressing',\n",
    "       'disability_concentrating', 'disability_none'], inplace=True)"
   ]
  },
  {
   "cell_type": "code",
   "execution_count": 6,
   "metadata": {},
   "outputs": [
    {
     "data": {
      "text/plain": [
       "(8286, 86)"
      ]
     },
     "execution_count": 6,
     "metadata": {},
     "output_type": "execute_result"
    }
   ],
   "source": [
    "data.shape"
   ]
  },
  {
   "cell_type": "code",
   "execution_count": 7,
   "metadata": {},
   "outputs": [
    {
     "data": {
      "text/html": [
       "<div>\n",
       "<style scoped>\n",
       "    .dataframe tbody tr th:only-of-type {\n",
       "        vertical-align: middle;\n",
       "    }\n",
       "\n",
       "    .dataframe tbody tr th {\n",
       "        vertical-align: top;\n",
       "    }\n",
       "\n",
       "    .dataframe thead th {\n",
       "        text-align: right;\n",
       "    }\n",
       "</style>\n",
       "<table border=\"1\" class=\"dataframe\">\n",
       "  <thead>\n",
       "    <tr style=\"text-align: right;\">\n",
       "      <th></th>\n",
       "      <th>employment</th>\n",
       "      <th>worker</th>\n",
       "      <th>congestion</th>\n",
       "      <th>drive_cbd_freq</th>\n",
       "      <th>planning_apps</th>\n",
       "      <th>job_type</th>\n",
       "      <th>jobs_count</th>\n",
       "      <th>industry</th>\n",
       "      <th>telework_freq</th>\n",
       "      <th>missing_work_location</th>\n",
       "      <th>...</th>\n",
       "      <th>tnc_mode_ferry</th>\n",
       "      <th>tnc_mode_bike</th>\n",
       "      <th>tnc_mode_scooter</th>\n",
       "      <th>car_share_zipcar</th>\n",
       "      <th>car_share_car2go</th>\n",
       "      <th>car_share_enterprise</th>\n",
       "      <th>car_share_other</th>\n",
       "      <th>car_share_none</th>\n",
       "      <th>car_share_user</th>\n",
       "      <th>harassment</th>\n",
       "    </tr>\n",
       "  </thead>\n",
       "  <tbody>\n",
       "    <tr>\n",
       "      <th>count</th>\n",
       "      <td>8286.000000</td>\n",
       "      <td>8286.000000</td>\n",
       "      <td>8286.000000</td>\n",
       "      <td>8286.000000</td>\n",
       "      <td>8286.000000</td>\n",
       "      <td>8286.000000</td>\n",
       "      <td>8286.000000</td>\n",
       "      <td>8286.000000</td>\n",
       "      <td>8286.000000</td>\n",
       "      <td>8286.000000</td>\n",
       "      <td>...</td>\n",
       "      <td>8286.000000</td>\n",
       "      <td>8286.000000</td>\n",
       "      <td>8286.000000</td>\n",
       "      <td>8286.000000</td>\n",
       "      <td>8286.000000</td>\n",
       "      <td>8286.000000</td>\n",
       "      <td>8286.000000</td>\n",
       "      <td>8286.000000</td>\n",
       "      <td>8286.000000</td>\n",
       "      <td>8286.000000</td>\n",
       "    </tr>\n",
       "    <tr>\n",
       "      <th>mean</th>\n",
       "      <td>179.318972</td>\n",
       "      <td>177.439416</td>\n",
       "      <td>427.818489</td>\n",
       "      <td>704.796524</td>\n",
       "      <td>312.392711</td>\n",
       "      <td>693.674632</td>\n",
       "      <td>693.606445</td>\n",
       "      <td>695.968622</td>\n",
       "      <td>741.564808</td>\n",
       "      <td>0.024378</td>\n",
       "      <td>...</td>\n",
       "      <td>994.040309</td>\n",
       "      <td>993.700821</td>\n",
       "      <td>994.777939</td>\n",
       "      <td>483.426382</td>\n",
       "      <td>483.412744</td>\n",
       "      <td>483.408038</td>\n",
       "      <td>483.424813</td>\n",
       "      <td>483.744388</td>\n",
       "      <td>483.455588</td>\n",
       "      <td>310.883056</td>\n",
       "    </tr>\n",
       "    <tr>\n",
       "      <th>std</th>\n",
       "      <td>379.302123</td>\n",
       "      <td>380.170664</td>\n",
       "      <td>1439.534122</td>\n",
       "      <td>1082.444991</td>\n",
       "      <td>1820.980475</td>\n",
       "      <td>638.459567</td>\n",
       "      <td>638.533467</td>\n",
       "      <td>635.983702</td>\n",
       "      <td>431.696108</td>\n",
       "      <td>0.154230</td>\n",
       "      <td>...</td>\n",
       "      <td>29.105358</td>\n",
       "      <td>35.652814</td>\n",
       "      <td>14.292400</td>\n",
       "      <td>1206.031764</td>\n",
       "      <td>1206.037225</td>\n",
       "      <td>1206.039110</td>\n",
       "      <td>1206.032392</td>\n",
       "      <td>1205.904362</td>\n",
       "      <td>1206.020067</td>\n",
       "      <td>1824.547127</td>\n",
       "    </tr>\n",
       "    <tr>\n",
       "      <th>min</th>\n",
       "      <td>1.000000</td>\n",
       "      <td>0.000000</td>\n",
       "      <td>-9998.000000</td>\n",
       "      <td>-9998.000000</td>\n",
       "      <td>-9998.000000</td>\n",
       "      <td>-9998.000000</td>\n",
       "      <td>-9998.000000</td>\n",
       "      <td>-9998.000000</td>\n",
       "      <td>1.000000</td>\n",
       "      <td>0.000000</td>\n",
       "      <td>...</td>\n",
       "      <td>111.000000</td>\n",
       "      <td>2.000000</td>\n",
       "      <td>73.000000</td>\n",
       "      <td>-9998.000000</td>\n",
       "      <td>-9998.000000</td>\n",
       "      <td>-9998.000000</td>\n",
       "      <td>-9998.000000</td>\n",
       "      <td>-9998.000000</td>\n",
       "      <td>-9998.000000</td>\n",
       "      <td>-9998.000000</td>\n",
       "    </tr>\n",
       "    <tr>\n",
       "      <th>25%</th>\n",
       "      <td>1.000000</td>\n",
       "      <td>0.000000</td>\n",
       "      <td>4.000000</td>\n",
       "      <td>995.000000</td>\n",
       "      <td>4.000000</td>\n",
       "      <td>2.000000</td>\n",
       "      <td>2.000000</td>\n",
       "      <td>17.000000</td>\n",
       "      <td>8.000000</td>\n",
       "      <td>0.000000</td>\n",
       "      <td>...</td>\n",
       "      <td>995.000000</td>\n",
       "      <td>995.000000</td>\n",
       "      <td>995.000000</td>\n",
       "      <td>0.000000</td>\n",
       "      <td>0.000000</td>\n",
       "      <td>0.000000</td>\n",
       "      <td>0.000000</td>\n",
       "      <td>1.000000</td>\n",
       "      <td>0.000000</td>\n",
       "      <td>4.000000</td>\n",
       "    </tr>\n",
       "    <tr>\n",
       "      <th>50%</th>\n",
       "      <td>3.000000</td>\n",
       "      <td>1.000000</td>\n",
       "      <td>995.000000</td>\n",
       "      <td>995.000000</td>\n",
       "      <td>995.000000</td>\n",
       "      <td>995.000000</td>\n",
       "      <td>995.000000</td>\n",
       "      <td>995.000000</td>\n",
       "      <td>995.000000</td>\n",
       "      <td>0.000000</td>\n",
       "      <td>...</td>\n",
       "      <td>995.000000</td>\n",
       "      <td>995.000000</td>\n",
       "      <td>995.000000</td>\n",
       "      <td>995.000000</td>\n",
       "      <td>995.000000</td>\n",
       "      <td>995.000000</td>\n",
       "      <td>995.000000</td>\n",
       "      <td>995.000000</td>\n",
       "      <td>995.000000</td>\n",
       "      <td>995.000000</td>\n",
       "    </tr>\n",
       "    <tr>\n",
       "      <th>75%</th>\n",
       "      <td>6.000000</td>\n",
       "      <td>1.000000</td>\n",
       "      <td>995.000000</td>\n",
       "      <td>995.000000</td>\n",
       "      <td>995.000000</td>\n",
       "      <td>995.000000</td>\n",
       "      <td>995.000000</td>\n",
       "      <td>995.000000</td>\n",
       "      <td>995.000000</td>\n",
       "      <td>0.000000</td>\n",
       "      <td>...</td>\n",
       "      <td>995.000000</td>\n",
       "      <td>995.000000</td>\n",
       "      <td>995.000000</td>\n",
       "      <td>995.000000</td>\n",
       "      <td>995.000000</td>\n",
       "      <td>995.000000</td>\n",
       "      <td>995.000000</td>\n",
       "      <td>995.000000</td>\n",
       "      <td>995.000000</td>\n",
       "      <td>995.000000</td>\n",
       "    </tr>\n",
       "    <tr>\n",
       "      <th>max</th>\n",
       "      <td>995.000000</td>\n",
       "      <td>995.000000</td>\n",
       "      <td>995.000000</td>\n",
       "      <td>995.000000</td>\n",
       "      <td>995.000000</td>\n",
       "      <td>995.000000</td>\n",
       "      <td>995.000000</td>\n",
       "      <td>995.000000</td>\n",
       "      <td>995.000000</td>\n",
       "      <td>1.000000</td>\n",
       "      <td>...</td>\n",
       "      <td>995.000000</td>\n",
       "      <td>995.000000</td>\n",
       "      <td>995.000000</td>\n",
       "      <td>995.000000</td>\n",
       "      <td>995.000000</td>\n",
       "      <td>995.000000</td>\n",
       "      <td>995.000000</td>\n",
       "      <td>995.000000</td>\n",
       "      <td>995.000000</td>\n",
       "      <td>995.000000</td>\n",
       "    </tr>\n",
       "  </tbody>\n",
       "</table>\n",
       "<p>8 rows × 84 columns</p>\n",
       "</div>"
      ],
      "text/plain": [
       "        employment       worker   congestion  drive_cbd_freq  planning_apps  \\\n",
       "count  8286.000000  8286.000000  8286.000000     8286.000000    8286.000000   \n",
       "mean    179.318972   177.439416   427.818489      704.796524     312.392711   \n",
       "std     379.302123   380.170664  1439.534122     1082.444991    1820.980475   \n",
       "min       1.000000     0.000000 -9998.000000    -9998.000000   -9998.000000   \n",
       "25%       1.000000     0.000000     4.000000      995.000000       4.000000   \n",
       "50%       3.000000     1.000000   995.000000      995.000000     995.000000   \n",
       "75%       6.000000     1.000000   995.000000      995.000000     995.000000   \n",
       "max     995.000000   995.000000   995.000000      995.000000     995.000000   \n",
       "\n",
       "          job_type   jobs_count     industry  telework_freq  \\\n",
       "count  8286.000000  8286.000000  8286.000000    8286.000000   \n",
       "mean    693.674632   693.606445   695.968622     741.564808   \n",
       "std     638.459567   638.533467   635.983702     431.696108   \n",
       "min   -9998.000000 -9998.000000 -9998.000000       1.000000   \n",
       "25%       2.000000     2.000000    17.000000       8.000000   \n",
       "50%     995.000000   995.000000   995.000000     995.000000   \n",
       "75%     995.000000   995.000000   995.000000     995.000000   \n",
       "max     995.000000   995.000000   995.000000     995.000000   \n",
       "\n",
       "       missing_work_location  ...  tnc_mode_ferry  tnc_mode_bike  \\\n",
       "count            8286.000000  ...     8286.000000    8286.000000   \n",
       "mean                0.024378  ...      994.040309     993.700821   \n",
       "std                 0.154230  ...       29.105358      35.652814   \n",
       "min                 0.000000  ...      111.000000       2.000000   \n",
       "25%                 0.000000  ...      995.000000     995.000000   \n",
       "50%                 0.000000  ...      995.000000     995.000000   \n",
       "75%                 0.000000  ...      995.000000     995.000000   \n",
       "max                 1.000000  ...      995.000000     995.000000   \n",
       "\n",
       "       tnc_mode_scooter  car_share_zipcar  car_share_car2go  \\\n",
       "count       8286.000000       8286.000000       8286.000000   \n",
       "mean         994.777939        483.426382        483.412744   \n",
       "std           14.292400       1206.031764       1206.037225   \n",
       "min           73.000000      -9998.000000      -9998.000000   \n",
       "25%          995.000000          0.000000          0.000000   \n",
       "50%          995.000000        995.000000        995.000000   \n",
       "75%          995.000000        995.000000        995.000000   \n",
       "max          995.000000        995.000000        995.000000   \n",
       "\n",
       "       car_share_enterprise  car_share_other  car_share_none  car_share_user  \\\n",
       "count           8286.000000      8286.000000     8286.000000     8286.000000   \n",
       "mean             483.408038       483.424813      483.744388      483.455588   \n",
       "std             1206.039110      1206.032392     1205.904362     1206.020067   \n",
       "min            -9998.000000     -9998.000000    -9998.000000    -9998.000000   \n",
       "25%                0.000000         0.000000        1.000000        0.000000   \n",
       "50%              995.000000       995.000000      995.000000      995.000000   \n",
       "75%              995.000000       995.000000      995.000000      995.000000   \n",
       "max              995.000000       995.000000      995.000000      995.000000   \n",
       "\n",
       "        harassment  \n",
       "count  8286.000000  \n",
       "mean    310.883056  \n",
       "std    1824.547127  \n",
       "min   -9998.000000  \n",
       "25%       4.000000  \n",
       "50%     995.000000  \n",
       "75%     995.000000  \n",
       "max     995.000000  \n",
       "\n",
       "[8 rows x 84 columns]"
      ]
     },
     "execution_count": 7,
     "metadata": {},
     "output_type": "execute_result"
    }
   ],
   "source": [
    "data.describe()"
   ]
  },
  {
   "attachments": {},
   "cell_type": "markdown",
   "metadata": {},
   "source": [
    "Though most of the features are nominal, but observe for quantitative data(jobs_count for example) that missing values, e.g., -9998 and 995, are affecting the results"
   ]
  },
  {
   "cell_type": "code",
   "execution_count": 8,
   "metadata": {},
   "outputs": [
    {
     "name": "stdout",
     "output_type": "stream",
     "text": [
      "<class 'pandas.core.frame.DataFrame'>\n",
      "RangeIndex: 8286 entries, 0 to 8285\n",
      "Data columns (total 86 columns):\n",
      " #   Column                       Non-Null Count  Dtype  \n",
      "---  ------                       --------------  -----  \n",
      " 0   cms_zone                     8286 non-null   object \n",
      " 1   employment                   8286 non-null   int64  \n",
      " 2   worker                       8286 non-null   int64  \n",
      " 3   congestion                   8286 non-null   int64  \n",
      " 4   drive_cbd_freq               8286 non-null   int64  \n",
      " 5   planning_apps                8286 non-null   int64  \n",
      " 6   job_type                     8286 non-null   int64  \n",
      " 7   jobs_count                   8286 non-null   int64  \n",
      " 8   industry                     8286 non-null   int64  \n",
      " 9   telework_freq                8286 non-null   int64  \n",
      " 10  work_cms_zone                1687 non-null   object \n",
      " 11  missing_work_location        8286 non-null   int64  \n",
      " 12  work_mode                    8286 non-null   int64  \n",
      " 13  work_mode_own                8286 non-null   int64  \n",
      " 14  work_park_location           8286 non-null   int64  \n",
      " 15  work_park_pay                8286 non-null   int64  \n",
      " 16  work_vehicle_pass_period     8286 non-null   int64  \n",
      " 17  work_park_amount_day         24 non-null     float64\n",
      " 18  work_park_amount_week        12 non-null     float64\n",
      " 19  work_park_amount_month       22 non-null     float64\n",
      " 20  work_park_amount_year        4 non-null      float64\n",
      " 21  work_mode_auto               8286 non-null   int64  \n",
      " 22  work_mode_bus                8286 non-null   int64  \n",
      " 23  work_mode_rail               8286 non-null   int64  \n",
      " 24  work_mode_ferry              8286 non-null   int64  \n",
      " 25  work_mode_taxi               8286 non-null   int64  \n",
      " 26  work_mode_bike               8286 non-null   int64  \n",
      " 27  work_bike_park               8286 non-null   int64  \n",
      " 28  work_mode_scooter            8286 non-null   int64  \n",
      " 29  work_scooter_park            8286 non-null   int64  \n",
      " 30  bike_freq                    8286 non-null   int64  \n",
      " 31  bike_num_days                8286 non-null   int64  \n",
      " 32  bike_stolen                  8286 non-null   int64  \n",
      " 33  bike_purpose_errands         8286 non-null   int64  \n",
      " 34  bike_purpose_transit         8286 non-null   int64  \n",
      " 35  bike_purpose_recreation      8286 non-null   int64  \n",
      " 36  bike_purpose_commute         8286 non-null   int64  \n",
      " 37  bike_purpose_appointment     8286 non-null   int64  \n",
      " 38  bike_purpose_other           8286 non-null   int64  \n",
      " 39  no_bike_nyc_bike_lanes       8286 non-null   int64  \n",
      " 40  no_bike_nyc_paving           8286 non-null   int64  \n",
      " 41  no_bike_nyc_storage          8286 non-null   int64  \n",
      " 42  no_bike_nyc_long_trips       8286 non-null   int64  \n",
      " 43  no_bike_nyc_showers          8286 non-null   int64  \n",
      " 44  no_bike_nyc_modes            8286 non-null   int64  \n",
      " 45  no_bike_nyc_unable           8286 non-null   int64  \n",
      " 46  no_bike_nyc_other            8286 non-null   int64  \n",
      " 47  bike_share_citi_bike         8286 non-null   int64  \n",
      " 48  bike_share_jump              8286 non-null   int64  \n",
      " 49  bike_share_lime              8286 non-null   int64  \n",
      " 50  bike_share_none              8286 non-null   int64  \n",
      " 51  bike_share_user              8286 non-null   int64  \n",
      " 52  citi_bike_freq               8286 non-null   int64  \n",
      " 53  jump_freq                    8286 non-null   int64  \n",
      " 54  lime_freq                    8286 non-null   int64  \n",
      " 55  no_bike_share_unfamiliar     8286 non-null   int64  \n",
      " 56  no_bike_share_expensive      8286 non-null   int64  \n",
      " 57  no_bike_share_neighborhood   8286 non-null   int64  \n",
      " 58  no_bike_share_stations       8286 non-null   int64  \n",
      " 59  no_bike_share_personal_bike  8286 non-null   int64  \n",
      " 60  no_bike_share_docks          8286 non-null   int64  \n",
      " 61  no_bike_share_uncomfortable  8286 non-null   int64  \n",
      " 62  no_bike_share_other          8286 non-null   int64  \n",
      " 63  tnc_use_uber                 8286 non-null   int64  \n",
      " 64  tnc_use_lyft                 8286 non-null   int64  \n",
      " 65  tnc_use_via                  8286 non-null   int64  \n",
      " 66  tnc_use_juno                 8286 non-null   int64  \n",
      " 67  tnc_use_none                 8286 non-null   int64  \n",
      " 68  tnc_user                     8286 non-null   int64  \n",
      " 69  tnc_freq                     8286 non-null   int64  \n",
      " 70  tnc_purpose                  8286 non-null   int64  \n",
      " 71  tnc_mode                     8286 non-null   int64  \n",
      " 72  tnc_mode_auto                8286 non-null   int64  \n",
      " 73  tnc_mode_taxi                8286 non-null   int64  \n",
      " 74  tnc_mode_bus                 8286 non-null   int64  \n",
      " 75  tnc_mode_rail                8286 non-null   int64  \n",
      " 76  tnc_mode_ferry               8286 non-null   int64  \n",
      " 77  tnc_mode_bike                8286 non-null   int64  \n",
      " 78  tnc_mode_scooter             8286 non-null   int64  \n",
      " 79  car_share_zipcar             8286 non-null   int64  \n",
      " 80  car_share_car2go             8286 non-null   int64  \n",
      " 81  car_share_enterprise         8286 non-null   int64  \n",
      " 82  car_share_other              8286 non-null   int64  \n",
      " 83  car_share_none               8286 non-null   int64  \n",
      " 84  car_share_user               8286 non-null   int64  \n",
      " 85  harassment                   8286 non-null   int64  \n",
      "dtypes: float64(4), int64(80), object(2)\n",
      "memory usage: 5.4+ MB\n"
     ]
    }
   ],
   "source": [
    "# information about the data\n",
    "data.info()"
   ]
  },
  {
   "attachments": {},
   "cell_type": "markdown",
   "metadata": {},
   "source": [
    "* Observe most of the values for 'work_park_amount_day', 'work_park_amount_week', 'work_park_amount_month' features are NULL\n",
    "* and 'work_cms_zone' have more than 60% NULLs\n",
    "* Observe 3 data types, will detect if we have more than these 3"
   ]
  },
  {
   "cell_type": "code",
   "execution_count": null,
   "metadata": {},
   "outputs": [
    {
     "name": "stdout",
     "output_type": "stream",
     "text": [
      "6599\n"
     ]
    },
    {
     "data": {
      "text/plain": [
       "0.7964035722906107"
      ]
     },
     "metadata": {},
     "output_type": "display_data"
    }
   ],
   "source": [
    "print(data['work_cms_zone'].isna().sum())\n",
    "data['work_cms_zone'].isna().mean()"
   ]
  },
  {
   "cell_type": "code",
   "execution_count": 51,
   "metadata": {},
   "outputs": [
    {
     "data": {
      "text/plain": [
       "array([dtype('O'), dtype('int64'), dtype('float64')], dtype=object)"
      ]
     },
     "execution_count": 51,
     "metadata": {},
     "output_type": "execute_result"
    }
   ],
   "source": [
    "data.dtypes.unique()"
   ]
  },
  {
   "attachments": {},
   "cell_type": "markdown",
   "metadata": {},
   "source": [
    "* Observe having 'O' datatype, let's detect it"
   ]
  },
  {
   "cell_type": "code",
   "execution_count": 59,
   "metadata": {},
   "outputs": [
    {
     "data": {
      "text/plain": [
       "Index(['cms_zone', 'work_cms_zone'], dtype='object')"
      ]
     },
     "execution_count": 59,
     "metadata": {},
     "output_type": "execute_result"
    }
   ],
   "source": [
    "# get the columns with 'object' data type\n",
    "# object_cols = data.select_dtypes(include=['object']).columns\n",
    "data.select_dtypes(include=['O']).columns"
   ]
  },
  {
   "attachments": {},
   "cell_type": "markdown",
   "metadata": {},
   "source": [
    "It denotes 'object' data type"
   ]
  },
  {
   "cell_type": "code",
   "execution_count": 60,
   "metadata": {},
   "outputs": [
    {
     "data": {
      "text/plain": [
       "Index(['cms_zone', 'work_cms_zone'], dtype='object')"
      ]
     },
     "execution_count": 60,
     "metadata": {},
     "output_type": "execute_result"
    }
   ],
   "source": [
    "# Detect columns with 'object' data type\n",
    "data.select_dtypes(include=['object']).columns"
   ]
  },
  {
   "attachments": {},
   "cell_type": "markdown",
   "metadata": {},
   "source": [
    "Same columns with 'O' data type"
   ]
  },
  {
   "cell_type": "code",
   "execution_count": 65,
   "metadata": {},
   "outputs": [
    {
     "data": {
      "text/plain": [
       "cms_zone                       0.000000\n",
       "no_bike_share_uncomfortable    0.000000\n",
       "no_bike_share_docks            0.000000\n",
       "no_bike_share_personal_bike    0.000000\n",
       "no_bike_share_stations         0.000000\n",
       "                                 ...   \n",
       "work_cms_zone                  0.796404\n",
       "work_park_amount_day           0.997104\n",
       "work_park_amount_month         0.997345\n",
       "work_park_amount_week          0.998552\n",
       "work_park_amount_year          0.999517\n",
       "Length: 86, dtype: float64"
      ]
     },
     "execution_count": 65,
     "metadata": {},
     "output_type": "execute_result"
    }
   ],
   "source": [
    "data.isna().mean().sort_values()"
   ]
  },
  {
   "cell_type": "code",
   "execution_count": 10,
   "metadata": {},
   "outputs": [
    {
     "data": {
      "text/html": [
       "<div>\n",
       "<style scoped>\n",
       "    .dataframe tbody tr th:only-of-type {\n",
       "        vertical-align: middle;\n",
       "    }\n",
       "\n",
       "    .dataframe tbody tr th {\n",
       "        vertical-align: top;\n",
       "    }\n",
       "\n",
       "    .dataframe thead th {\n",
       "        text-align: right;\n",
       "    }\n",
       "</style>\n",
       "<table border=\"1\" class=\"dataframe\">\n",
       "  <thead>\n",
       "    <tr style=\"text-align: right;\">\n",
       "      <th></th>\n",
       "      <th>cms_zone</th>\n",
       "      <th>work_cms_zone</th>\n",
       "    </tr>\n",
       "  </thead>\n",
       "  <tbody>\n",
       "    <tr>\n",
       "      <th>0</th>\n",
       "      <td>Inner Brooklyn</td>\n",
       "      <td>NaN</td>\n",
       "    </tr>\n",
       "    <tr>\n",
       "      <th>1</th>\n",
       "      <td>Inner Brooklyn</td>\n",
       "      <td>NaN</td>\n",
       "    </tr>\n",
       "    <tr>\n",
       "      <th>2</th>\n",
       "      <td>Inner Brooklyn</td>\n",
       "      <td>NaN</td>\n",
       "    </tr>\n",
       "    <tr>\n",
       "      <th>3</th>\n",
       "      <td>Middle Queens</td>\n",
       "      <td>NaN</td>\n",
       "    </tr>\n",
       "    <tr>\n",
       "      <th>4</th>\n",
       "      <td>Middle Queens</td>\n",
       "      <td>NaN</td>\n",
       "    </tr>\n",
       "    <tr>\n",
       "      <th>...</th>\n",
       "      <td>...</td>\n",
       "      <td>...</td>\n",
       "    </tr>\n",
       "    <tr>\n",
       "      <th>8281</th>\n",
       "      <td>Staten Island</td>\n",
       "      <td>NaN</td>\n",
       "    </tr>\n",
       "    <tr>\n",
       "      <th>8282</th>\n",
       "      <td>Staten Island</td>\n",
       "      <td>Staten Island</td>\n",
       "    </tr>\n",
       "    <tr>\n",
       "      <th>8283</th>\n",
       "      <td>Staten Island</td>\n",
       "      <td>NaN</td>\n",
       "    </tr>\n",
       "    <tr>\n",
       "      <th>8284</th>\n",
       "      <td>Staten Island</td>\n",
       "      <td>NaN</td>\n",
       "    </tr>\n",
       "    <tr>\n",
       "      <th>8285</th>\n",
       "      <td>Staten Island</td>\n",
       "      <td>NaN</td>\n",
       "    </tr>\n",
       "  </tbody>\n",
       "</table>\n",
       "<p>8286 rows × 2 columns</p>\n",
       "</div>"
      ],
      "text/plain": [
       "            cms_zone  work_cms_zone\n",
       "0     Inner Brooklyn            NaN\n",
       "1     Inner Brooklyn            NaN\n",
       "2     Inner Brooklyn            NaN\n",
       "3      Middle Queens            NaN\n",
       "4      Middle Queens            NaN\n",
       "...              ...            ...\n",
       "8281   Staten Island            NaN\n",
       "8282   Staten Island  Staten Island\n",
       "8283   Staten Island            NaN\n",
       "8284   Staten Island            NaN\n",
       "8285   Staten Island            NaN\n",
       "\n",
       "[8286 rows x 2 columns]"
      ]
     },
     "execution_count": 10,
     "metadata": {},
     "output_type": "execute_result"
    }
   ],
   "source": [
    "categorical_data = data.select_dtypes(['object'])\n",
    "categorical_data"
   ]
  },
  {
   "cell_type": "code",
   "execution_count": 11,
   "metadata": {},
   "outputs": [
    {
     "data": {
      "text/plain": [
       "Northern Bronx        1032\n",
       "Staten Island         1024\n",
       "Outer Queens           975\n",
       "Southern Bronx         902\n",
       "Middle Queens          835\n",
       "Outer Brooklyn         822\n",
       "Inner Brooklyn         767\n",
       "Inner Queens           730\n",
       "Northern Manhattan     657\n",
       "Manhattan Core         542\n",
       "Name: cms_zone, dtype: int64"
      ]
     },
     "execution_count": 11,
     "metadata": {},
     "output_type": "execute_result"
    }
   ],
   "source": [
    "data['cms_zone'].value_counts()"
   ]
  },
  {
   "cell_type": "code",
   "execution_count": 12,
   "metadata": {},
   "outputs": [
    {
     "name": "stdout",
     "output_type": "stream",
     "text": [
      "1687\n"
     ]
    },
    {
     "data": {
      "text/plain": [
       "Manhattan Core     815\n",
       "Inner Brooklyn     166\n",
       "Southern Bronx     122\n",
       "Upper Manhattan    114\n",
       "Outer Brooklyn      96\n",
       "Inner Queens        79\n",
       "Middle Queens       75\n",
       "Staten Island       73\n",
       "Northern Bronx      70\n",
       "Outer Queens        69\n",
       "JFK                  7\n",
       "LGA                  1\n",
       "Name: work_cms_zone, dtype: int64"
      ]
     },
     "execution_count": 12,
     "metadata": {},
     "output_type": "execute_result"
    }
   ],
   "source": [
    "print(data['work_cms_zone'].value_counts().sum())\n",
    "data['work_cms_zone'].value_counts()"
   ]
  },
  {
   "cell_type": "code",
   "execution_count": 13,
   "metadata": {},
   "outputs": [
    {
     "data": {
      "text/plain": [
       "{'Northern Manhattan'}"
      ]
     },
     "execution_count": 13,
     "metadata": {},
     "output_type": "execute_result"
    }
   ],
   "source": [
    "set(data['cms_zone']) - set(data['work_cms_zone'])"
   ]
  },
  {
   "cell_type": "code",
   "execution_count": 14,
   "metadata": {},
   "outputs": [
    {
     "data": {
      "text/plain": [
       "{'JFK', 'LGA', 'Upper Manhattan', nan}"
      ]
     },
     "execution_count": 14,
     "metadata": {},
     "output_type": "execute_result"
    }
   ],
   "source": [
    "set(data['work_cms_zone']) - set(data['cms_zone'])"
   ]
  },
  {
   "attachments": {},
   "cell_type": "markdown",
   "metadata": {},
   "source": [
    "'work_cms_zone' include more places than 'cms_zone'. e.g., 'JFK', 'LGA' airports"
   ]
  },
  {
   "attachments": {},
   "cell_type": "markdown",
   "metadata": {},
   "source": [
    "### Employment\n",
    "* Detect employment status for majority of people\n",
    "* Detect employment status relationship with transportation method used"
   ]
  },
  {
   "cell_type": "code",
   "execution_count": 17,
   "metadata": {},
   "outputs": [
    {
     "data": {
      "text/plain": [
       "1      3293\n",
       "6      2185\n",
       "995    1473\n",
       "2       762\n",
       "3       434\n",
       "7       139\n",
       "Name: employment, dtype: int64"
      ]
     },
     "execution_count": 17,
     "metadata": {},
     "output_type": "execute_result"
    }
   ],
   "source": [
    "data[\"employment\"].value_counts()"
   ]
  },
  {
   "cell_type": "code",
   "execution_count": 18,
   "metadata": {},
   "outputs": [
    {
     "data": {
      "image/png": "[encoded data removed]",
      "text/plain": [
       "<Figure size 640x480 with 1 Axes>"
      ]
     },
     "metadata": {},
     "output_type": "display_data"
    }
   ],
   "source": [
    "count_plot_percentage(data, 'employment')"
   ]
  },
  {
   "attachments": {},
   "cell_type": "markdown",
   "metadata": {},
   "source": [
    "* Most of the people are full-time paid employees\n",
    "* Quarter of people aren't currently employed (e.g., retired, looking for work)\n",
    "* Very few of people are volunteers or interns"
   ]
  },
  {
   "cell_type": "code",
   "execution_count": 19,
   "metadata": {},
   "outputs": [
    {
     "data": {
      "image/png": "[encoded data removed]",
      "text/plain": [
       "<Figure size 640x480 with 1 Axes>"
      ]
     },
     "metadata": {},
     "output_type": "display_data"
    }
   ],
   "source": [
    "count_plot_percentage(data, 'worker')"
   ]
  },
  {
   "attachments": {},
   "cell_type": "markdown",
   "metadata": {},
   "source": [
    "* 55.9% of people are employed. Almost the half\n",
    "* almost quarter of people aren't employed"
   ]
  },
  {
   "cell_type": "code",
   "execution_count": 20,
   "metadata": {},
   "outputs": [
    {
     "data": {
      "text/plain": [
       " 995     5924\n",
       " 1       2031\n",
       " 2        231\n",
       " 3         57\n",
       " 6         17\n",
       "-9998      15\n",
       " 4          8\n",
       " 5          3\n",
       "Name: jobs_count, dtype: int64"
      ]
     },
     "execution_count": 20,
     "metadata": {},
     "output_type": "execute_result"
    }
   ],
   "source": [
    "data['jobs_count'].value_counts()"
   ]
  },
  {
   "cell_type": "code",
   "execution_count": 21,
   "metadata": {},
   "outputs": [
    {
     "data": {
      "text/plain": [
       " 995     5924\n",
       " 1       1627\n",
       " 2        497\n",
       " 3        135\n",
       " 4         88\n",
       "-9998      15\n",
       "Name: job_type, dtype: int64"
      ]
     },
     "execution_count": 21,
     "metadata": {},
     "output_type": "execute_result"
    }
   ],
   "source": [
    "data['job_type'].value_counts()"
   ]
  },
  {
   "attachments": {},
   "cell_type": "markdown",
   "metadata": {},
   "source": [
    "Most usual work location for people is **one** work location, regardless of being a telework or onsite"
   ]
  },
  {
   "cell_type": "code",
   "execution_count": 22,
   "metadata": {},
   "outputs": [
    {
     "data": {
      "text/plain": [
       " 3          3\n",
       " 6         13\n",
       "-9998      15\n",
       " 11        28\n",
       " 13        43\n",
       " 2         60\n",
       " 17        60\n",
       " 5         87\n",
       " 12        91\n",
       " 9        100\n",
       " 15       124\n",
       " 10       128\n",
       " 16       129\n",
       " 14       167\n",
       " 1        211\n",
       " 4        221\n",
       " 18       247\n",
       " 7        298\n",
       " 8        337\n",
       " 995     5924\n",
       "Name: industry, dtype: int64"
      ]
     },
     "execution_count": 22,
     "metadata": {},
     "output_type": "execute_result"
    }
   ],
   "source": [
    "data['industry'].value_counts().sort_values()"
   ]
  },
  {
   "attachments": {},
   "cell_type": "markdown",
   "metadata": {},
   "source": [
    "* Most of them Missing: Skip logic\n",
    "* Only 3 of them their work industry is: Capital goods (aerospace & defense, electrical, machinery)\n",
    "* Most work industry in which people work in is: Health care/social assistance"
   ]
  },
  {
   "cell_type": "code",
   "execution_count": 23,
   "metadata": {},
   "outputs": [
    {
     "data": {
      "image/png": "[encoded data removed]",
      "text/plain": [
       "<Figure size 640x480 with 1 Axes>"
      ]
     },
     "metadata": {},
     "output_type": "display_data"
    }
   ],
   "source": [
    "count_plot_percentage(data, 'drive_cbd_freq')"
   ]
  },
  {
   "attachments": {},
   "cell_type": "markdown",
   "metadata": {},
   "source": [
    "Regardless of 995(Missing: Skip logic), The majority of people who filled out the survey are those with least Frequency of driving vehicle into or within the area of Manhattan south of 60th Street"
   ]
  },
  {
   "cell_type": "code",
   "execution_count": 24,
   "metadata": {},
   "outputs": [
    {
     "data": {
      "image/png": "[encoded data removed]",
      "text/plain": [
       "<Figure size 640x480 with 1 Axes>"
      ]
     },
     "metadata": {},
     "output_type": "display_data"
    }
   ],
   "source": [
    "count_plot_percentage(data, 'congestion')"
   ]
  },
  {
   "attachments": {},
   "cell_type": "markdown",
   "metadata": {},
   "source": [
    "Proportion of people opposing and supporting the congistion almost equal"
   ]
  },
  {
   "cell_type": "code",
   "execution_count": 25,
   "metadata": {},
   "outputs": [
    {
     "data": {
      "text/plain": [
       "<AxesSubplot: xlabel='congestion', ylabel='count'>"
      ]
     },
     "execution_count": 25,
     "metadata": {},
     "output_type": "execute_result"
    },
    {
     "data": {
      "image/png": "[encoded data removed]",
      "text/plain": [
       "<Figure size 2000x600 with 1 Axes>"
      ]
     },
     "metadata": {},
     "output_type": "display_data"
    }
   ],
   "source": [
    "# Observe wheter people's frequency of driving vehicle into or within the area of Manhattan south of 60th Street affects supporting/opposing congesiton\n",
    "plt.figure(figsize=(20, 6))\n",
    "sns.countplot(x='congestion', hue='drive_cbd_freq', data=data)"
   ]
  },
  {
   "attachments": {},
   "cell_type": "markdown",
   "metadata": {},
   "source": [
    "No clear inferences, sounds that people who have never drived into or within Manhattan have alost equal voting with regard to congestion"
   ]
  },
  {
   "cell_type": "code",
   "execution_count": 26,
   "metadata": {},
   "outputs": [
    {
     "data": {
      "text/plain": [
       "congestion  drive_cbd_freq\n",
       "-9998       -9998               73\n",
       "             995                65\n",
       " 1           995               413\n",
       "             7                  87\n",
       "             8                  86\n",
       "             6                  30\n",
       "             4                   8\n",
       "             5                   8\n",
       "             2                   7\n",
       "             1                   3\n",
       "             3                   3\n",
       " 2           995               405\n",
       "             7                 150\n",
       "             8                 118\n",
       "             6                  50\n",
       "             5                  11\n",
       "             4                  10\n",
       "             2                   7\n",
       "             1                   4\n",
       "             3                   1\n",
       " 3           995               218\n",
       "             7                 107\n",
       "             8                  61\n",
       "             6                  37\n",
       "             5                  19\n",
       "             4                   9\n",
       "             1                   3\n",
       "             2                   3\n",
       "             3                   2\n",
       " 4           995               313\n",
       "             7                 238\n",
       "             8                 137\n",
       "             6                 114\n",
       "             4                  49\n",
       "             5                  46\n",
       "             2                  28\n",
       "             1                  14\n",
       "             3                   7\n",
       " 5           995               238\n",
       "             8                  97\n",
       "             7                  47\n",
       "             6                  12\n",
       "             4                   4\n",
       "             1                   2\n",
       "             5                   2\n",
       " 995         995              4940\n",
       "Name: drive_cbd_freq, dtype: int64"
      ]
     },
     "execution_count": 26,
     "metadata": {},
     "output_type": "execute_result"
    }
   ],
   "source": [
    "data.groupby(\"congestion\")[\"drive_cbd_freq\"].value_counts()"
   ]
  },
  {
   "attachments": {},
   "cell_type": "markdown",
   "metadata": {},
   "source": [
    "Expect that people with more telework frequency support congestion and vice versa, let's detect that"
   ]
  },
  {
   "cell_type": "code",
   "execution_count": 27,
   "metadata": {},
   "outputs": [
    {
     "data": {
      "text/plain": [
       "<AxesSubplot: xlabel='telework_freq', ylabel='count'>"
      ]
     },
     "execution_count": 27,
     "metadata": {},
     "output_type": "execute_result"
    },
    {
     "data": {
      "image/png": "[encoded data removed]",
      "text/plain": [
       "<Figure size 2000x600 with 1 Axes>"
      ]
     },
     "metadata": {},
     "output_type": "display_data"
    }
   ],
   "source": [
    "plt.figure(figsize=(20, 6))\n",
    "sns.countplot(x='telework_freq', hue='congestion', data=data)"
   ]
  },
  {
   "attachments": {},
   "cell_type": "markdown",
   "metadata": {},
   "source": [
    "besides missing(skip logic), the majority voting is from people with no telework. Appear that most of them highly opposing congestion"
   ]
  },
  {
   "cell_type": "code",
   "execution_count": 67,
   "metadata": {},
   "outputs": [
    {
     "data": {
      "image/png": "[encoded data removed]",
      "text/plain": [
       "<Figure size 640x480 with 1 Axes>"
      ]
     },
     "metadata": {},
     "output_type": "display_data"
    }
   ],
   "source": [
    "count_plot_percentage(data, 'telework_freq')"
   ]
  },
  {
   "cell_type": "markdown",
   "metadata": {},
   "source": [
    "As detected from previous plot, majority of them are those with no telework, and missing(skip logic)"
   ]
  },
  {
   "cell_type": "code",
   "execution_count": 71,
   "metadata": {},
   "outputs": [
    {
     "data": {
      "text/plain": [
       "995    7007\n",
       "0      1090\n",
       "1        68\n",
       "2        37\n",
       "3        30\n",
       "4        17\n",
       "5        15\n",
       "6        12\n",
       "7        10\n",
       "Name: bike_num_days, dtype: int64"
      ]
     },
     "execution_count": 71,
     "metadata": {},
     "output_type": "execute_result"
    }
   ],
   "source": [
    "data['bike_num_days'].value_counts()"
   ]
  },
  {
   "cell_type": "code",
   "execution_count": 28,
   "metadata": {},
   "outputs": [
    {
     "data": {
      "image/png": "[encoded data removed]",
      "text/plain": [
       "<Figure size 640x480 with 1 Axes>"
      ]
     },
     "metadata": {},
     "output_type": "display_data"
    }
   ],
   "source": [
    "count_plot_percentage(data, 'bike_num_days')"
   ]
  },
  {
   "attachments": {},
   "cell_type": "markdown",
   "metadata": {},
   "source": [
    "Most of people don't ride a bike The whole week"
   ]
  },
  {
   "cell_type": "code",
   "execution_count": 29,
   "metadata": {},
   "outputs": [
    {
     "data": {
      "text/plain": [
       "<AxesSubplot: xlabel='bike_num_days', ylabel='count'>"
      ]
     },
     "execution_count": 29,
     "metadata": {},
     "output_type": "execute_result"
    },
    {
     "data": {
      "image/png": "[encoded data removed]",
      "text/plain": [
       "<Figure size 2000x600 with 1 Axes>"
      ]
     },
     "metadata": {},
     "output_type": "display_data"
    }
   ],
   "source": [
    "# Detect Bike && unemployed\n",
    "plt.figure(figsize=(20, 6))\n",
    "sns.countplot(x='bike_num_days', hue='employment', data=data)"
   ]
  }
 ],
 "metadata": {
  "kernelspec": {
   "display_name": "Python 3",
   "language": "python",
   "name": "python3"
  },
  "language_info": {
   "codemirror_mode": {
    "name": "ipython",
    "version": 3
   },
   "file_extension": ".py",
   "mimetype": "text/x-python",
   "name": "python",
   "nbconvert_exporter": "python",
   "pygments_lexer": "ipython3",
   "version": "3.10.10"
  },
  "orig_nbformat": 4,
  "vscode": {
   "interpreter": {
    "hash": "5c1f741a4f83aa020b4b2a4d7353a073a4e5e4a855a3258a20da40294ddbf005"
   }
  }
 },
 "nbformat": 4,
 "nbformat_minor": 2
}
