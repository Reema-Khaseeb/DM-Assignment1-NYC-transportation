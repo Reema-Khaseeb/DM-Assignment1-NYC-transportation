{
 "cells": [
  {
   "cell_type": "markdown",
   "metadata": {},
   "source": [
    "### DBSCAN Insights Analysis"
   ]
  },
  {
   "cell_type": "code",
   "execution_count": null,
   "metadata": {},
   "outputs": [],
   "source": [
    "data_insights = pd.read_csv(\"data/Citywide_Mobility_Survey_-_Person_Survey_2019.csv\")"
   ]
  },
  {
   "cell_type": "code",
   "execution_count": null,
   "metadata": {},
   "outputs": [
    {
     "data": {
      "text/plain": [
       "(8286, 165)"
      ]
     },
     "metadata": {},
     "output_type": "display_data"
    }
   ],
   "source": [
    "data_insights.shape"
   ]
  },
  {
   "cell_type": "code",
   "execution_count": null,
   "metadata": {},
   "outputs": [],
   "source": [
    "data_insights.drop(['person_num','relationship', 'hh_id','person_id','weight',\n",
    "                    'first_travel_date','last_travel_date','num_days','num_days_complete'],\n",
    "                    axis=1, inplace=True)"
   ]
  },
  {
   "cell_type": "code",
   "execution_count": null,
   "metadata": {},
   "outputs": [
    {
     "data": {
      "text/plain": [
       "(8286, 156)"
      ]
     },
     "metadata": {},
     "output_type": "display_data"
    }
   ],
   "source": [
    "data_insights.shape"
   ]
  },
  {
   "cell_type": "markdown",
   "metadata": {},
   "source": [
    "# Missing Values"
   ]
  },
  {
   "cell_type": "markdown",
   "metadata": {},
   "source": [
    "convert the -9998 value to NaN to handle it also with missing values"
   ]
  },
  {
   "cell_type": "code",
   "execution_count": null,
   "metadata": {},
   "outputs": [],
   "source": [
    "for column in data_insights.columns:\n",
    "    data_insights[column] = data_insights[column].replace(-9998,np.nan)\n",
    "    data_insights[column] = data_insights[column].replace(\"-9998\",np.nan)"
   ]
  },
  {
   "cell_type": "code",
   "execution_count": null,
   "metadata": {},
   "outputs": [],
   "source": [
    "null_percentage = data_insights.isna().mean().sort_values(ascending=False)[data_insights.isna().sum()>0] "
   ]
  },
  {
   "cell_type": "code",
   "execution_count": null,
   "metadata": {},
   "outputs": [],
   "source": [
    "null_percentage = data_insights.isna().sum().\\\n",
    "    apply(lambda x:x/data_insights.shape[0]*100).\\\n",
    "        sort_values(ascending=False)[data_insights.isna().sum()>0] "
   ]
  },
  {
   "cell_type": "code",
   "execution_count": null,
   "metadata": {},
   "outputs": [
    {
     "name": "stdout",
     "output_type": "stream",
     "text": [
      "before Remove  (8286, 137)\n",
      "after Remove  (6728, 137)\n"
     ]
    }
   ],
   "source": [
    "# remove any column have more than 50% NULL\n",
    "data_insights.drop(columns=null_percentage[null_percentage>50].index.to_list(),inplace=True)\n",
    "\n",
    "# for the rest we will remove any row have null value\n",
    "data_insights = data_insights.dropna(axis=0)\n",
    "\n",
    "# remove any row have is_participant value not 1 becouse all the rest of the values are null\n",
    "data_insights = data_insights[data_insights[\"is_participant\"]==1]"
   ]
  },
  {
   "cell_type": "code",
   "execution_count": null,
   "metadata": {},
   "outputs": [
    {
     "data": {
      "text/plain": [
       "2692"
      ]
     },
     "metadata": {},
     "output_type": "display_data"
    },
    {
     "data": {
      "text/plain": [
       "2692"
      ]
     },
     "metadata": {},
     "output_type": "display_data"
    }
   ],
   "source": [
    "display(len(data_insights))\n",
    "len(labels)"
   ]
  },
  {
   "cell_type": "code",
   "execution_count": null,
   "metadata": {},
   "outputs": [],
   "source": [
    "data_insights_labeled_dictionary = data_insights.copy()\n",
    "\n",
    "for map_col, map_vals in columns_dictionary.items():\n",
    "  data_insights_labeled_dictionary = data_insights_labeled_dictionary.replace({map_col: map_vals})\n",
    "\n",
    "data_insights_labeled_dictionary[\"labels\"] = labels"
   ]
  },
  {
   "cell_type": "markdown",
   "metadata": {},
   "source": [
    "# DBSCAN Analysis"
   ]
  },
  {
   "cell_type": "code",
   "execution_count": null,
   "metadata": {},
   "outputs": [
    {
     "data": {
      "text/plain": [
       "[0, 1, 2, 3]"
      ]
     },
     "metadata": {},
     "output_type": "display_data"
    }
   ],
   "source": [
    "unique_labels = list(set(labels))\n",
    "unique_labels"
   ]
  },
  {
   "cell_type": "markdown",
   "metadata": {},
   "source": [
    "#### Label0"
   ]
  },
  {
   "cell_type": "code",
   "execution_count": null,
   "metadata": {},
   "outputs": [
    {
     "data": {
      "text/plain": [
       "(325, 288)"
      ]
     },
     "metadata": {},
     "output_type": "display_data"
    }
   ],
   "source": [
    "# Encoded data\n",
    "\n",
    "dbscan_label_0_encoded = data_dbscan_clusters[data_dbscan_clusters['label']==0]\n",
    "dbscan_label_0_encoded.to_csv(\"data/dbscan_label_1_encoded.csv\")\n",
    "\n",
    "dbscan_label_0_encoded.shape"
   ]
  },
  {
   "cell_type": "code",
   "execution_count": null,
   "metadata": {},
   "outputs": [],
   "source": [
    "# data Not encoded\n",
    "origin_data_label0 = data_insights_labeled_dictionary[data_insights_labeled_dictionary['labels']==0]\n",
    "label_0_data_dbscan = origin_data_label0[origin_data_label0['labels']==0]\n",
    "label_0_data_dbscan.to_csv(\"data/dbscan_label_0_not_encoded.csv\")"
   ]
  },
  {
   "cell_type": "code",
   "execution_count": null,
   "metadata": {},
   "outputs": [],
   "source": [
    "for indx, col in enumerate(origin_data_label0):\n",
    "    print(f'indx: {indx}   |   col: {col}\\n',\n",
    "          origin_data_label0[col].value_counts(normalize=True) * 100, '\\n\\n')"
   ]
  },
  {
   "cell_type": "markdown",
   "metadata": {},
   "source": [
    "### Label 0\n",
    "* 100% Unemployed. All people are unemployed, they may be retired, or looking for work....\n",
    "* 83% are not students, so most of people are neither employees nor students\n",
    "* Almost 50% of them are 55 yeas old or older\n",
    "* 0.3% are 85 years old or older\n",
    "* 87% of people don't ride a bike the whole week\n",
    "* 56% have never ridden a bike in one of the five boroughs of New York City in the past 12 months\n",
    "* 20% prefer not to use a bike cause they prefer using other modes\n",
    "* 27% people don't use a bikeshare service due to not feeling comfortable biking\n",
    "* 45% use Smartphone-app Ride Service \n",
    "* 38% use Uber Smartphone-app Ride Service \n",
    "* 76% have not seen or experienced harassment/violence when traveling\n",
    "* 10% used Subway Rail before began using smartphone-app ride services\n",
    "* 12% are Car Share Service Users\n",
    "* 47% of people consider 'doorstep' as their package delivery location when not at home to receive them\n",
    "* 20% of people consider 'lobby' as their package delivery location when not at home to receive them\n",
    "* Harassment has influenced travel behavior of 12% of people by paying more attention to their surroundings and other passengers\n",
    "* 53% are Females    45% are Males\n",
    "* 24% have Bachelor's degree - the highest level of education completed \n",
    "* 21% the highest level of education they completed from Some college\n",
    "* 87% their english proficiency is very well\n",
    "* Almost 67% wouldn't consider themselves to be of Hispanic, Latino, or Spanish origin\n",
    "* 15% would consider themselves to be of Puerto Rican origin\n",
    "* 14% from asian race\n",
    "* 20% from black race\n",
    "* Almost 47% from white race\n",
    "* 13% of the population has a walking disability"
   ]
  },
  {
   "cell_type": "code",
   "execution_count": null,
   "metadata": {},
   "outputs": [],
   "source": []
  },
  {
   "cell_type": "markdown",
   "metadata": {},
   "source": [
    "### Label1"
   ]
  },
  {
   "cell_type": "code",
   "execution_count": null,
   "metadata": {},
   "outputs": [
    {
     "data": {
      "text/plain": [
       "(794, 288)"
      ]
     },
     "metadata": {},
     "output_type": "display_data"
    }
   ],
   "source": [
    "# Encoded data\n",
    "\n",
    "dbscan_label_1_encoded = data_dbscan_clusters[data_dbscan_clusters['label']==1]\n",
    "\n",
    "dbscan_label_1_encoded.to_csv(\"data/dbscan_label_1_encoded.csv\")\n",
    "\n",
    "dbscan_label_1_encoded.shape"
   ]
  },
  {
   "cell_type": "code",
   "execution_count": null,
   "metadata": {},
   "outputs": [],
   "source": [
    "# data Not encoded\n",
    "origin_data_label1 = data_insights_labeled_dictionary[data_insights_labeled_dictionary['labels']==1]\n",
    "label_1_data_dbscan = origin_data_label1[origin_data_label1['labels']==1]\n",
    "label_1_data_dbscan.to_csv(\"data/dbscan_label_1_not_encoded.csv\")"
   ]
  },
  {
   "cell_type": "code",
   "execution_count": null,
   "metadata": {},
   "outputs": [
    {
     "data": {
      "text/plain": [
       "(794, 137)"
      ]
     },
     "metadata": {},
     "output_type": "display_data"
    }
   ],
   "source": [
    "label_1_data_dbscan.shape"
   ]
  },
  {
   "cell_type": "code",
   "execution_count": null,
   "metadata": {},
   "outputs": [],
   "source": [
    "for indx, col in enumerate(label_1_data_dbscan):\n",
    "    print(f'indx: {indx}   |   col: {col}\\n',\n",
    "          label_1_data_dbscan[col].value_counts(normalize=True) * 100, '\\n\\n')"
   ]
  },
  {
   "cell_type": "markdown",
   "metadata": {},
   "source": [
    "### Label 1\n",
    "* Almost 79% The method in which the survey was taken is rMove (smartphone app)\n",
    "* 61% have a smartphone - Apple iPhone\n",
    "* Almost 34% have a smartphone - Android phone\n",
    "* Almost 72% age ranges 25-54\n",
    "    * 25% are 25-34 years old\n",
    "    * 25% are 35-44 y/o\n",
    "    * 22% are 45-54 years old\n",
    "* 100% are employed\n",
    "* 73% are full-time employees\n",
    "* 52% Female   |    44% Male\n",
    "* 90% their english proficiency is very well\n",
    "* 85% Has a valid driver's license or learner's permit\n",
    "* 43% have one vehicle\n",
    "* 30% Strongly oppose congestion pricing\n",
    "    * But almost 24% Somewhat support congestion pricing\n",
    "* Usual work location for 68% of people only one (outside of home, may also telework)\n",
    "* Almost 85% have one job\n",
    "* 45% never work online from home the whole week\n",
    "* Typical mode to work for 42% of people is any rail (e.g., subway, train, light rail)\n",
    "* 40% used Subway Rail before began using smartphone-app ride services\n",
    "* Almost 60% have never ridden a bike in one of the five boroughs of New York City in the past 12 months\n",
    "* 20% have ridden a bike a few times a year in one of the five boroughs of New York City in the past 12 months\n",
    "* The reason for 24% of people to not ride a bicycle in New York City that they prefer using other modes\n",
    "* 93% have never used a bikeshare service\n",
    "* Reason for 25% of people to not use a bikeshare service: Not in their neighborhood\n",
    "* Reason for 23% of people to not use a bikeshare service: Prefer to use their personal bicycle\n",
    "* Reason for 30% of people to not use a bikeshare service: Do not feel comfortable biking\n",
    "* 55% Smartphone-app ride services used: Uber\n",
    "* 37% Smartphone-app ride services used: Lyft\n",
    "* 65% are Smartphone-app Ride Service Users\n",
    "* 30% Less than monthly uses smartphone-app ride services (e.g., Lyft, Uber)\n",
    "* 26% Most common purpose of trips made using smartphone-app ride services is: to Go Home\n",
    "* for 23% of people, a taxi or car service was the primary mode used before began using smartphone-app ride services\n",
    "* 44% of people consider 'doorstep' as their package delivery location when not at home to receive them\n",
    "* 21% of people consider 'lobby' as their package delivery location when not at home to receive them\n",
    "* 69% have not seen or experienced harassment/violence when traveling in the past week\n",
    "* 35% have Bachelor's degree - the highest level of education completed \n",
    "* 51% white race"
   ]
  },
  {
   "cell_type": "code",
   "execution_count": null,
   "metadata": {},
   "outputs": [],
   "source": []
  },
  {
   "cell_type": "markdown",
   "metadata": {},
   "source": [
    "### Label2"
   ]
  },
  {
   "cell_type": "code",
   "execution_count": null,
   "metadata": {},
   "outputs": [
    {
     "data": {
      "text/plain": [
       "(1030, 288)"
      ]
     },
     "metadata": {},
     "output_type": "display_data"
    }
   ],
   "source": [
    "# Encoded data\n",
    "dbscan_label_2_encoded = data_dbscan_clusters[data_dbscan_clusters['label']==2]\n",
    "dbscan_label_2_encoded.to_csv(\"data/dbscan_label_2_encoded.csv\")\n",
    "dbscan_label_2_encoded.shape"
   ]
  },
  {
   "cell_type": "code",
   "execution_count": null,
   "metadata": {},
   "outputs": [],
   "source": [
    "# data Not encoded\n",
    "origin_data_label2 = data_insights_labeled_dictionary[data_insights_labeled_dictionary['labels']==2]\n",
    "label_2_data_dbscan = origin_data_label2[origin_data_label2['labels']==2]\n",
    "label_2_data_dbscan.to_csv(\"data/dbscan_label_2_not_encoded.csv\")"
   ]
  },
  {
   "cell_type": "code",
   "execution_count": null,
   "metadata": {},
   "outputs": [
    {
     "data": {
      "text/plain": [
       "(1030, 137)"
      ]
     },
     "metadata": {},
     "output_type": "display_data"
    }
   ],
   "source": [
    "label_2_data_dbscan.shape"
   ]
  },
  {
   "cell_type": "code",
   "execution_count": null,
   "metadata": {},
   "outputs": [],
   "source": [
    "for indx, col in enumerate(label_2_data_dbscan):\n",
    "    print(f'indx: {indx}   |   col: {col}\\n',\n",
    "          label_2_data_dbscan[col].value_counts(normalize=True) * 100, '\\n\\n')"
   ]
  },
  {
   "cell_type": "markdown",
   "metadata": {},
   "source": [
    "### Label 2\n",
    "* Almost 72% filled the survey via rMove (smartphone app)\n",
    "* 52% have a smartphone - Apple iPhone\n",
    "* Almost 72% age ranges 25-54\n",
    "    * 25% are 25-34 years old\n",
    "    * 25% are 35-44 y/o\n",
    "    * 22% are 45-54 years old\n",
    "* 100% are employed\n",
    "    * 74% are full-time employees\n",
    "    * 89% have only 1 job\n",
    "    * 72% have only one work location (outside of home, may also telework)\n",
    "* 39% have one vehicle\n",
    "* 56% Female    |   41% Male\n",
    "* 89% their english proficiency is very well\n",
    "* 92% aren't students\n",
    "* 47% white race\n",
    "* 26% use trip planning apps 6-7 days a week\n",
    "    * 20% use trip planning apps 2-3 days a week\n",
    "\n",
    "* 66% are Smartphone-app Ride Service Users\n",
    "* 56% Smartphone-app ride services used: Uber\n",
    "* 38% Smartphone-app ride services used: Lyft\n",
    "\n",
    "* 31% Strongly oppose congestion pricing\n",
    "* Almost 82% have never ridden a bike in one of the five boroughs of New York City in the past 12 months\n",
    "* 98% have never used a bikeshare service\n",
    "* 88% have never used a bikeshare service\n",
    "* Typical mode to work for 53% of people is any rail (e.g., subway, train, light rail)"
   ]
  },
  {
   "cell_type": "code",
   "execution_count": null,
   "metadata": {},
   "outputs": [],
   "source": []
  },
  {
   "cell_type": "markdown",
   "metadata": {},
   "source": [
    "## Label 3"
   ]
  },
  {
   "cell_type": "code",
   "execution_count": null,
   "metadata": {},
   "outputs": [
    {
     "data": {
      "text/plain": [
       "(543, 288)"
      ]
     },
     "metadata": {},
     "output_type": "display_data"
    }
   ],
   "source": [
    "# Encoded data\n",
    "dbscan_label_3_encoded = data_dbscan_clusters[data_dbscan_clusters['label']==3]\n",
    "dbscan_label_3_encoded.to_csv(\"data/dbscan_label_3_encoded.csv\")\n",
    "dbscan_label_3_encoded.shape"
   ]
  },
  {
   "cell_type": "code",
   "execution_count": null,
   "metadata": {},
   "outputs": [],
   "source": [
    "# data Not encoded\n",
    "origin_data_label3 = data_insights_labeled_dictionary[data_insights_labeled_dictionary['labels']==3]\n",
    "label_3_data_dbscan = origin_data_label3[origin_data_label3['labels']==3]\n",
    "label_3_data_dbscan.to_csv(\"data/dbscan_label_3_not_encoded.csv\")"
   ]
  },
  {
   "cell_type": "code",
   "execution_count": null,
   "metadata": {},
   "outputs": [
    {
     "data": {
      "text/plain": [
       "(543, 137)"
      ]
     },
     "metadata": {},
     "output_type": "display_data"
    }
   ],
   "source": [
    "label_3_data_dbscan.shape"
   ]
  },
  {
   "cell_type": "code",
   "execution_count": null,
   "metadata": {},
   "outputs": [],
   "source": [
    "for indx, col in enumerate(label_3_data_dbscan):\n",
    "    print(f'indx: {indx}   |   col: {col}\\n',\n",
    "          label_3_data_dbscan[col].value_counts(normalize=True) * 100, '\\n\\n')"
   ]
  },
  {
   "cell_type": "markdown",
   "metadata": {},
   "source": [
    "### Label 3\n",
    "* 41% filled the survey via rSurvey (online, browser)\n",
    "    * Almost 38% filled the survey via rMove (smartphone app)\n",
    "* 31% have a smartphone - Apple iPhone\n",
    "* 39% do not have a smartphone\n",
    "* 30% age ranges 65-74\n",
    "* 17% are 55-64 years old\n",
    "* 100% All are unemployed\n",
    "* 88% aren't students\n",
    "* 61% Female    |   37% Male\n",
    "* 23% black race\n",
    "* 48% white race\n",
    "* 21% have walking disability\n",
    "\n",
    "* 88% their english proficiency is very well\n",
    "* 10% car share users\n",
    "* 35% have one vehicle\n",
    "* 39% don't have smartphones\n",
    "* 31%  have iPhone\n",
    "* 29% have Android phone\n",
    "* 33% are Smartphone-app Ride Service Users\n",
    "* 28% Smartphone-app ride services used: Uber"
   ]
  }
 ],
 "metadata": {
  "kernelspec": {
   "display_name": "venv_DM_NYC",
   "language": "python",
   "name": "python3"
  },
  "language_info": {
   "name": "python",
   "version": "3.10.10"
  },
  "orig_nbformat": 4,
  "vscode": {
   "interpreter": {
    "hash": "92bd227ad32b276e6d2bd7c83609041d59fc85598cb8b6186c91d3f99f5ddf9c"
   }
  }
 },
 "nbformat": 4,
 "nbformat_minor": 2
}
